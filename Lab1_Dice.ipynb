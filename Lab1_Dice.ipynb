{
 "cells": [
  {
   "cell_type": "code",
   "execution_count": 1,
   "id": "6008443f-e426-4e82-9daf-c9fc2d1242f8",
   "metadata": {},
   "outputs": [
    {
     "name": "stdout",
     "output_type": "stream",
     "text": [
      "Please roll the dice 5 times!\n",
      "We will then show you the statistics after.\n",
      "\n",
      "Your first roll is a 2\n",
      "Your second roll is a 1\n",
      "Your third roll is a 1\n",
      "Your fourth roll is a 4\n",
      "Your final roll is a 5\n",
      "\n",
      "Dice Statistics:\n",
      "Your dice average is: 2.6\n",
      "Your dice total score is: 13\n",
      "Medium Score!\n"
     ]
    }
   ],
   "source": [
    "import random\n",
    "\n",
    "print(\"Please roll the dice 5 times!\")\n",
    "print(\"We will then show you the statistics after.\\n\")\n",
    "\n",
    "# Store all rolls in a list\n",
    "rolls = [random.randint(1, 6) for _ in range(5)]\n",
    "\n",
    "# Naming for rolls\n",
    "roll_names = ['first', 'second', 'third', 'fourth', 'final']\n",
    "\n",
    "# Print each roll result\n",
    "for i, roll in enumerate(rolls):\n",
    "    print(f\"Your {roll_names[i]} roll is a {roll}\")\n",
    "\n",
    "# Calculate and print statistics\n",
    "dice_avg = sum(rolls) / len(rolls)\n",
    "dice_score = sum(rolls)\n",
    "\n",
    "print(\"\\nDice Statistics:\")\n",
    "print(f\"Your dice average is: {dice_avg}\")\n",
    "print(f\"Your dice total score is: {dice_score}\")\n",
    "\n",
    "# Label score as High, Medium, or Low\n",
    "if dice_score > 18:\n",
    "    print(\"High Score!\")\n",
    "elif dice_score > 12:\n",
    "    print(\"Medium Score!\")\n",
    "else:\n",
    "    print(\"Low Score!\")"
   ]
  },
  {
   "cell_type": "code",
   "execution_count": null,
   "id": "7f830c0a-cd08-49b6-951d-54a700cc5923",
   "metadata": {},
   "outputs": [],
   "source": []
  }
 ],
 "metadata": {
  "kernelspec": {
   "display_name": "Python 3 (ipykernel)",
   "language": "python",
   "name": "python3"
  },
  "language_info": {
   "codemirror_mode": {
    "name": "ipython",
    "version": 3
   },
   "file_extension": ".py",
   "mimetype": "text/x-python",
   "name": "python",
   "nbconvert_exporter": "python",
   "pygments_lexer": "ipython3",
   "version": "3.12.1"
  }
 },
 "nbformat": 4,
 "nbformat_minor": 5
}
