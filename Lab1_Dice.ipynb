{
 "cells": [
  {
   "cell_type": "code",
   "execution_count": 27,
   "id": "25ddcdb0-c13a-40f8-b00d-5d3918cc31f8",
   "metadata": {},
   "outputs": [
    {
     "name": "stdout",
     "output_type": "stream",
     "text": [
      "Please roll the dice 5 times!\n",
      "We will then show you the statistics after.\n",
      "Your first roll is a 2\n",
      "Your second roll is a 6\n",
      "Your third roll is a 3\n",
      "Your fourth roll is a 2\n",
      "Your final roll is a 6\n",
      "Dice Statistics:\n",
      "Your dice average is: 3.8\n",
      "Your dice score is: 19\n",
      "High Score!\n"
     ]
    }
   ],
   "source": [
    "print(\"Please roll the dice 5 times!\")\n",
    "print(\"We will then show you the statistics after.\")\n",
    "\n",
    "import random\n",
    "r1 = random.randint(1, 6)\n",
    "print(\"Your first roll is a \" + str(r1))\n",
    "\n",
    "r2 = random.randint(1, 6)\n",
    "print(\"Your second roll is a \" + str(r2))\n",
    "\n",
    "r3 = random.randint(1, 6)\n",
    "print(\"Your third roll is a \" + str(r3))\n",
    "\n",
    "r4 = random.randint(1, 6)\n",
    "print(\"Your fourth roll is a \" + str(r4))\n",
    "\n",
    "r5 = random.randint(1, 6)\n",
    "print(\"Your final roll is a \" + str(r5))\n",
    "\n",
    "\n",
    "dice_avg = ((r1+r2+r3+r4+r5) / 5)\n",
    "dice_score = r1+r2+r3+r4+r5\n",
    "\n",
    "print(\"Dice Statistics:\")\n",
    "print(\"Your dice average is: \" + str(dice_avg))\n",
    "print(\"Your dice score is: \" +str(dice_score))\n",
    "\n",
    "if dice_score > 18:\n",
    "    print(\"High Score!\")\n",
    "elif dice_score > 12:\n",
    "    print(\"Medium Score!\")\n",
    "else:\n",
    "    print(\"Low Score!\")\n"
   ]
  },
  {
   "cell_type": "code",
   "execution_count": null,
   "id": "df741668-1666-4037-a92d-f5eeac769c1c",
   "metadata": {},
   "outputs": [],
   "source": []
  }
 ],
 "metadata": {
  "kernelspec": {
   "display_name": "Python 3 (ipykernel)",
   "language": "python",
   "name": "python3"
  },
  "language_info": {
   "codemirror_mode": {
    "name": "ipython",
    "version": 3
   },
   "file_extension": ".py",
   "mimetype": "text/x-python",
   "name": "python",
   "nbconvert_exporter": "python",
   "pygments_lexer": "ipython3",
   "version": "3.12.1"
  }
 },
 "nbformat": 4,
 "nbformat_minor": 5
}
