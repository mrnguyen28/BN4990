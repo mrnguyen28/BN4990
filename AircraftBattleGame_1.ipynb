{
 "cells": [
  {
   "cell_type": "markdown",
   "id": "ad42cf58-8b01-4f33-b6a8-687bbae3d771",
   "metadata": {},
   "source": [
    "# AirCraft Battle Game"
   ]
  },
  {
   "cell_type": "code",
   "execution_count": 9,
   "id": "67096b43-60d1-4249-86f3-ff94984f6f3a",
   "metadata": {},
   "outputs": [
    {
     "name": "stdout",
     "output_type": "stream",
     "text": [
      "Welcome to the Fighter Plane vs Helicopter Battle!\n",
      "Choose your aircraft:\n",
      "1. Fighter Plane\n",
      "2. Helicopter\n"
     ]
    },
    {
     "name": "stdin",
     "output_type": "stream",
     "text": [
      "Enter your choice (1 or 2):  1\n"
     ]
    },
    {
     "name": "stdout",
     "output_type": "stream",
     "text": [
      "Fighter Plane Inventory:\n",
      "- Machine Gun: Damage: 10, Usage: 5\n",
      "- Missile: Damage: 20, Usage: 3\n",
      "You are piloting a Fighter Plane. Prepare for battle against the enemy Helicopter!\n",
      "\n",
      "Fighter Plane (Health: 60) vs Helicopter (Health: 50)\n",
      "1. Attack\n",
      "2. Defend\n"
     ]
    },
    {
     "name": "stdin",
     "output_type": "stream",
     "text": [
      "Enter your choice:  2\n"
     ]
    },
    {
     "name": "stdout",
     "output_type": "stream",
     "text": [
      "Fighter Plane maneuvers defensively! Defense increased by 2.\n",
      "Helicopter attacks Fighter Plane with Rockets for 7 damage!\n",
      "Fighter Plane (Health: 53) vs Helicopter (Health: 50)\n",
      "1. Attack\n",
      "2. Defend\n"
     ]
    },
    {
     "name": "stdin",
     "output_type": "stream",
     "text": [
      "Enter your choice:  1\n"
     ]
    },
    {
     "name": "stdout",
     "output_type": "stream",
     "text": [
      "Choose a weapon for attack:\n",
      "1. Machine Gun (Damage: 10, Usage: 5)\n",
      "2. Missile (Damage: 20, Usage: 3)\n"
     ]
    },
    {
     "name": "stdin",
     "output_type": "stream",
     "text": [
      "Enter the number of the weapon:  1\n"
     ]
    },
    {
     "name": "stdout",
     "output_type": "stream",
     "text": [
      "Fighter Plane attacks Helicopter with Machine Gun for 6 damage!\n",
      "Helicopter attacks Fighter Plane with Rockets for 7 damage!\n",
      "Fighter Plane (Health: 46) vs Helicopter (Health: 44)\n",
      "1. Attack\n",
      "2. Defend\n"
     ]
    },
    {
     "name": "stdin",
     "output_type": "stream",
     "text": [
      "Enter your choice:  2\n"
     ]
    },
    {
     "name": "stdout",
     "output_type": "stream",
     "text": [
      "Fighter Plane maneuvers defensively! Defense increased by 2.\n",
      "Helicopter attacks Fighter Plane with Gatling Gun for 2 damage!\n",
      "Fighter Plane (Health: 44) vs Helicopter (Health: 44)\n",
      "1. Attack\n",
      "2. Defend\n"
     ]
    },
    {
     "name": "stdin",
     "output_type": "stream",
     "text": [
      "Enter your choice:  2\n"
     ]
    },
    {
     "name": "stdout",
     "output_type": "stream",
     "text": [
      "Fighter Plane maneuvers defensively! Defense increased by 2.\n",
      "Helicopter attacks Fighter Plane with Rockets for 3 damage!\n",
      "Fighter Plane (Health: 41) vs Helicopter (Health: 44)\n",
      "1. Attack\n",
      "2. Defend\n"
     ]
    },
    {
     "name": "stdin",
     "output_type": "stream",
     "text": [
      "Enter your choice:  1\n"
     ]
    },
    {
     "name": "stdout",
     "output_type": "stream",
     "text": [
      "Choose a weapon for attack:\n",
      "1. Machine Gun (Damage: 10, Usage: 4)\n",
      "2. Missile (Damage: 20, Usage: 3)\n"
     ]
    },
    {
     "name": "stdin",
     "output_type": "stream",
     "text": [
      "Enter the number of the weapon:  2\n"
     ]
    },
    {
     "name": "stdout",
     "output_type": "stream",
     "text": [
      "Fighter Plane attacks Helicopter with Missile for 16 damage!\n",
      "Helicopter's attack with Gatling Gun is ineffective against Fighter Plane!\n",
      "Fighter Plane (Health: 41) vs Helicopter (Health: 28)\n",
      "1. Attack\n",
      "2. Defend\n"
     ]
    },
    {
     "name": "stdin",
     "output_type": "stream",
     "text": [
      "Enter your choice:  2\n"
     ]
    },
    {
     "name": "stdout",
     "output_type": "stream",
     "text": [
      "Fighter Plane maneuvers defensively! Defense increased by 2.\n",
      "Helicopter attacks Fighter Plane with Rockets for 1 damage!\n",
      "Rockets ran out of ammo and was discarded.\n",
      "Fighter Plane (Health: 40) vs Helicopter (Health: 28)\n",
      "1. Attack\n",
      "2. Defend\n"
     ]
    },
    {
     "name": "stdin",
     "output_type": "stream",
     "text": [
      "Enter your choice:  1\n"
     ]
    },
    {
     "name": "stdout",
     "output_type": "stream",
     "text": [
      "Choose a weapon for attack:\n",
      "1. Machine Gun (Damage: 10, Usage: 4)\n",
      "2. Missile (Damage: 20, Usage: 2)\n"
     ]
    },
    {
     "name": "stdin",
     "output_type": "stream",
     "text": [
      "Enter the number of the weapon:  1\n"
     ]
    },
    {
     "name": "stdout",
     "output_type": "stream",
     "text": [
      "Fighter Plane attacks Helicopter with Machine Gun for 6 damage!\n",
      "Helicopter's attack with Gatling Gun is ineffective against Fighter Plane!\n",
      "Fighter Plane (Health: 40) vs Helicopter (Health: 22)\n",
      "1. Attack\n",
      "2. Defend\n"
     ]
    },
    {
     "name": "stdin",
     "output_type": "stream",
     "text": [
      "Enter your choice:  1\n"
     ]
    },
    {
     "name": "stdout",
     "output_type": "stream",
     "text": [
      "Choose a weapon for attack:\n",
      "1. Machine Gun (Damage: 10, Usage: 3)\n",
      "2. Missile (Damage: 20, Usage: 2)\n"
     ]
    },
    {
     "name": "stdin",
     "output_type": "stream",
     "text": [
      "Enter the number of the weapon:  2\n"
     ]
    },
    {
     "name": "stdout",
     "output_type": "stream",
     "text": [
      "Fighter Plane attacks Helicopter with Missile for 16 damage!\n",
      "Helicopter's attack with Gatling Gun is ineffective against Fighter Plane!\n",
      "Fighter Plane (Health: 40) vs Helicopter (Health: 6)\n",
      "1. Attack\n",
      "2. Defend\n"
     ]
    },
    {
     "name": "stdin",
     "output_type": "stream",
     "text": [
      "Enter your choice:  2\n"
     ]
    },
    {
     "name": "stdout",
     "output_type": "stream",
     "text": [
      "Fighter Plane maneuvers defensively! Defense increased by 2.\n",
      "Helicopter's attack with Gatling Gun is ineffective against Fighter Plane!\n",
      "Fighter Plane (Health: 40) vs Helicopter (Health: 6)\n",
      "1. Attack\n",
      "2. Defend\n"
     ]
    },
    {
     "name": "stdin",
     "output_type": "stream",
     "text": [
      "Enter your choice:  2\n"
     ]
    },
    {
     "name": "stdout",
     "output_type": "stream",
     "text": [
      "Fighter Plane maneuvers defensively! Defense increased by 2.\n",
      "Helicopter's attack with Gatling Gun is ineffective against Fighter Plane!\n",
      "Fighter Plane (Health: 40) vs Helicopter (Health: 6)\n",
      "1. Attack\n",
      "2. Defend\n"
     ]
    },
    {
     "name": "stdin",
     "output_type": "stream",
     "text": [
      "Enter your choice:  1\n"
     ]
    },
    {
     "name": "stdout",
     "output_type": "stream",
     "text": [
      "Choose a weapon for attack:\n",
      "1. Machine Gun (Damage: 10, Usage: 3)\n",
      "2. Missile (Damage: 20, Usage: 1)\n"
     ]
    },
    {
     "name": "stdin",
     "output_type": "stream",
     "text": [
      "Enter the number of the weapon:  1\n"
     ]
    },
    {
     "name": "stdout",
     "output_type": "stream",
     "text": [
      "Fighter Plane attacks Helicopter with Machine Gun for 6 damage!\n",
      "Congratulations! You defeated the enemy.\n"
     ]
    }
   ],
   "source": [
    " import random\n",
    "\n",
    "class Weapon:\n",
    "    def __init__(self, name, damage, usage):\n",
    "        self.name = name\n",
    "        self.damage = damage\n",
    "        self.usage = usage\n",
    "\n",
    "class Aircraft:\n",
    "    def __init__(self, name, health, attack_power, defense_power, weapons):\n",
    "        self.name = name\n",
    "        self.health = health\n",
    "        self.attack_power = attack_power\n",
    "        self.defense_power = defense_power\n",
    "        self.weapons = weapons\n",
    "\n",
    "    def attack(self, enemy, weapon=None):\n",
    "        if not weapon:\n",
    "            # Automatically choose a random weapon from the inventory\n",
    "            weapon = random.choice(self.weapons)\n",
    "        \n",
    "        if weapon not in self.weapons:\n",
    "            print(\"Invalid weapon choice! Attack failed.\")\n",
    "            return\n",
    "\n",
    "        if weapon.usage <= 0:\n",
    "            print(f\"{weapon.name} has no ammo left! Attack failed.\")\n",
    "            return\n",
    "\n",
    "        damage = weapon.damage - enemy.defense_power\n",
    "        if damage > 0:\n",
    "            enemy.health -= damage\n",
    "            print(f\"{self.name} attacks {enemy.name} with {weapon.name} for {damage} damage!\")\n",
    "            weapon.usage -= 1\n",
    "            if weapon.usage == 0:\n",
    "                self.weapons.remove(weapon)\n",
    "                print(f\"{weapon.name} ran out of ammo and was discarded.\")\n",
    "        else:\n",
    "            print(f\"{self.name}'s attack with {weapon.name} is ineffective against {enemy.name}!\")\n",
    "\n",
    "    def defend(self):\n",
    "        self.defense_power += 2\n",
    "        print(f\"{self.name} maneuvers defensively! Defense increased by 2.\")\n",
    "\n",
    "def display_inventory(aircraft):\n",
    "    print(f\"{aircraft.name} Inventory:\")\n",
    "    for weapon in aircraft.weapons:\n",
    "        print(f\"- {weapon.name}: Damage: {weapon.damage}, Usage: {weapon.usage}\")\n",
    "\n",
    "def add_weapon(aircraft, weapon):\n",
    "    aircraft.weapons.append(weapon)\n",
    "    print(f\"{weapon.name} added to {aircraft.name} inventory.\")\n",
    "\n",
    "def remove_weapon(aircraft, weapon_name):\n",
    "    for w in aircraft.weapons:\n",
    "        if w.name == weapon_name:\n",
    "            aircraft.weapons.remove(w)\n",
    "            print(f\"{w.name} removed from {aircraft.name} inventory.\")\n",
    "            return\n",
    "    print(f\"{weapon_name} not found in {aircraft.name} inventory.\")\n",
    "\n",
    "def main():\n",
    "    fighter_plane_weapon_inventory = [Weapon(\"Machine Gun\", 10, 5), Weapon(\"Missile\", 20, 3)]\n",
    "    helicopter_weapon_inventory = [Weapon(\"Rockets\", 15, 4), Weapon(\"Gatling Gun\", 12, 6)]\n",
    "\n",
    "    print(\"Welcome to the Fighter Plane vs Helicopter Battle!\")\n",
    "    print(\"Choose your aircraft:\")\n",
    "    print(\"1. Fighter Plane\")\n",
    "    print(\"2. Helicopter\")\n",
    "    choice = input(\"Enter your choice (1 or 2): \")\n",
    "\n",
    "    if choice == '1':\n",
    "        player_aircraft = Aircraft(\"Fighter Plane\", 60, 12, 6, fighter_plane_weapon_inventory)\n",
    "    elif choice == '2':\n",
    "        player_aircraft = Aircraft(\"Helicopter\", 50, 10, 4, helicopter_weapon_inventory)\n",
    "    else:\n",
    "        print(\"Invalid choice! Exiting game.\")\n",
    "        return\n",
    "\n",
    "    # Display inventory items\n",
    "    display_inventory(player_aircraft)\n",
    "\n",
    "    # Select a random enemy aircraft excluding the player's aircraft\n",
    "    enemy_aircrafts = [\n",
    "        Aircraft(\"Fighter Plane\", 60, 12, 6, fighter_plane_weapon_inventory.copy()),\n",
    "        Aircraft(\"Helicopter\", 50, 10, 4, helicopter_weapon_inventory.copy())\n",
    "    ]\n",
    "    enemy_aircrafts = [enemy for enemy in enemy_aircrafts if enemy.name != player_aircraft.name]\n",
    "    enemy_aircraft = random.choice(enemy_aircrafts)\n",
    "\n",
    "    print(f\"You are piloting a {player_aircraft.name}. Prepare for battle against the enemy {enemy_aircraft.name}!\\n\")\n",
    "\n",
    "    \n",
    "    while player_aircraft.health > 0 and enemy_aircraft.health > 0:\n",
    "        print(f\"{player_aircraft.name} (Health: {player_aircraft.health}) vs {enemy_aircraft.name} (Health: {enemy_aircraft.health})\")\n",
    "        print(\"1. Attack\")\n",
    "        print(\"2. Defend\")\n",
    "        player_choice = input(\"Enter your choice: \")\n",
    "\n",
    "        if player_choice == '1':\n",
    "            # Ask player to choose a weapon for attack\n",
    "            print(\"Choose a weapon for attack:\")\n",
    "            for i, weapon in enumerate(player_aircraft.weapons, 1):\n",
    "                print(f\"{i}. {weapon.name} (Damage: {weapon.damage}, Usage: {weapon.usage})\")\n",
    "            weapon_choice = input(\"Enter the number of the weapon: \")\n",
    "\n",
    "            if weapon_choice.isdigit() and 1 <= int(weapon_choice) <= len(player_aircraft.weapons):\n",
    "                weapon = player_aircraft.weapons[int(weapon_choice) - 1]\n",
    "                player_aircraft.attack(enemy_aircraft, weapon)\n",
    "                if enemy_aircraft.health > 0:\n",
    "                    enemy_weapon = random.choice(enemy_aircraft.weapons)\n",
    "                    enemy_aircraft.attack(player_aircraft, enemy_weapon)\n",
    "            else:\n",
    "                print(\"Invalid weapon choice! Try again.\")\n",
    "        elif player_choice == '2':\n",
    "            player_aircraft.defend()\n",
    "            enemy_weapon = random.choice(enemy_aircraft.weapons)\n",
    "            enemy_aircraft.attack(player_aircraft, enemy_weapon)\n",
    "        else:\n",
    "            print(\"Invalid choice! Try again.\")\n",
    "\n",
    "    if player_aircraft.health > 0:\n",
    "        print(\"Congratulations! You defeated the enemy.\")\n",
    "    else:\n",
    "        print(\"Game over! The enemy has defeated you.\")\n",
    "\n",
    "if __name__ == \"__main__\":\n",
    "    main()\n"
   ]
  },
  {
   "cell_type": "code",
   "execution_count": null,
   "id": "dee46663-aa34-4b14-a217-840f5adecfc5",
   "metadata": {},
   "outputs": [],
   "source": []
  }
 ],
 "metadata": {
  "kernelspec": {
   "display_name": "Python 3 (ipykernel)",
   "language": "python",
   "name": "python3"
  },
  "language_info": {
   "codemirror_mode": {
    "name": "ipython",
    "version": 3
   },
   "file_extension": ".py",
   "mimetype": "text/x-python",
   "name": "python",
   "nbconvert_exporter": "python",
   "pygments_lexer": "ipython3",
   "version": "3.12.1"
  }
 },
 "nbformat": 4,
 "nbformat_minor": 5
}
