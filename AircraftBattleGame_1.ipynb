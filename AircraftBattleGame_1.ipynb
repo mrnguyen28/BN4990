{
 "cells": [
  {
   "cell_type": "code",
   "execution_count": 1,
   "id": "ba2141fa-b185-415d-a21a-08559d2f6893",
   "metadata": {},
   "outputs": [
    {
     "name": "stdout",
     "output_type": "stream",
     "text": [
      "Welcome to the Fighter Plane vs Helicopter Battle!\n",
      "Choose your aircraft:\n",
      "1. Fighter Plane\n",
      "2. Helicopter\n"
     ]
    },
    {
     "name": "stdin",
     "output_type": "stream",
     "text": [
      "Enter your choice (1 or 2):  1\n"
     ]
    },
    {
     "name": "stdout",
     "output_type": "stream",
     "text": [
      "You are piloting a Fighter Plane. Prepare for battle against the enemy Helicopter!\n",
      "\n",
      "Fighter Plane (Health: 60) vs Helicopter (Health: 50)\n",
      "1. Attack\n",
      "2. Defend\n"
     ]
    },
    {
     "name": "stdin",
     "output_type": "stream",
     "text": [
      "Enter your choice:  1\n"
     ]
    },
    {
     "name": "stdout",
     "output_type": "stream",
     "text": [
      "Fighter Plane attacks Helicopter with Machine Gun for 6 damage!\n",
      "Helicopter attacks Fighter Plane with Rockets for 9 damage!\n",
      "Fighter Plane (Health: 51) vs Helicopter (Health: 44)\n",
      "1. Attack\n",
      "2. Defend\n"
     ]
    },
    {
     "name": "stdin",
     "output_type": "stream",
     "text": [
      "Enter your choice:  2\n"
     ]
    },
    {
     "name": "stdout",
     "output_type": "stream",
     "text": [
      "Fighter Plane maneuvers defensively! Defense increased by 2.\n",
      "Helicopter attacks Fighter Plane with Gatling Gun for 4 damage!\n",
      "Fighter Plane (Health: 47) vs Helicopter (Health: 44)\n",
      "1. Attack\n",
      "2. Defend\n"
     ]
    },
    {
     "name": "stdin",
     "output_type": "stream",
     "text": [
      "Enter your choice:  1\n"
     ]
    },
    {
     "name": "stdout",
     "output_type": "stream",
     "text": [
      "Fighter Plane attacks Helicopter with Missile for 16 damage!\n",
      "Helicopter attacks Fighter Plane with Rockets for 7 damage!\n",
      "Fighter Plane (Health: 40) vs Helicopter (Health: 28)\n",
      "1. Attack\n",
      "2. Defend\n"
     ]
    },
    {
     "name": "stdin",
     "output_type": "stream",
     "text": [
      "Enter your choice:  1\n"
     ]
    },
    {
     "name": "stdout",
     "output_type": "stream",
     "text": [
      "Fighter Plane attacks Helicopter with Missile for 16 damage!\n",
      "Helicopter attacks Fighter Plane with Rockets for 7 damage!\n",
      "Fighter Plane (Health: 33) vs Helicopter (Health: 12)\n",
      "1. Attack\n",
      "2. Defend\n"
     ]
    },
    {
     "name": "stdin",
     "output_type": "stream",
     "text": [
      "Enter your choice:  1\n"
     ]
    },
    {
     "name": "stdout",
     "output_type": "stream",
     "text": [
      "Fighter Plane attacks Helicopter with Machine Gun for 6 damage!\n",
      "Helicopter attacks Fighter Plane with Rockets for 7 damage!\n",
      "Rockets ran out of ammo and was discarded.\n",
      "Fighter Plane (Health: 26) vs Helicopter (Health: 6)\n",
      "1. Attack\n",
      "2. Defend\n"
     ]
    },
    {
     "name": "stdin",
     "output_type": "stream",
     "text": [
      "Enter your choice:  1\n"
     ]
    },
    {
     "name": "stdout",
     "output_type": "stream",
     "text": [
      "Fighter Plane attacks Helicopter with Missile for 16 damage!\n",
      "Missile ran out of ammo and was discarded.\n",
      "Congratulations! You defeated the enemy.\n"
     ]
    }
   ],
   "source": [
    "import random\n",
    "\n",
    "class Weapon:\n",
    "    def __init__(self, name, damage, usage):\n",
    "        self.name = name\n",
    "        self.damage = damage\n",
    "        self.usage = usage\n",
    "\n",
    "class Aircraft:\n",
    "    def __init__(self, name, health, attack_power, defense_power, weapons):\n",
    "        self.name = name\n",
    "        self.health = health\n",
    "        self.attack_power = attack_power\n",
    "        self.defense_power = defense_power\n",
    "        self.weapons = weapons\n",
    "\n",
    "    def attack(self, enemy):\n",
    "        if not self.weapons:\n",
    "            print(\"No weapons available! Attack failed.\")\n",
    "            return\n",
    "\n",
    "        weapon = random.choice(self.weapons)\n",
    "        damage = weapon.damage - enemy.defense_power\n",
    "        if damage > 0:\n",
    "            enemy.health -= damage\n",
    "            print(f\"{self.name} attacks {enemy.name} with {weapon.name} for {damage} damage!\")\n",
    "            weapon.usage -= 1\n",
    "            if weapon.usage == 0:\n",
    "                self.weapons.remove(weapon)\n",
    "                print(f\"{weapon.name} ran out of ammo and was discarded.\")\n",
    "        else:\n",
    "            print(f\"{self.name}'s attack with {weapon.name} is ineffective against {enemy.name}!\")\n",
    "\n",
    "    def defend(self):\n",
    "        self.defense_power += 2\n",
    "        print(f\"{self.name} maneuvers defensively! Defense increased by 2.\")\n",
    "\n",
    "    def is_alive(self):\n",
    "        return self.health > 0\n",
    "\n",
    "def main():\n",
    "    fighter_plane_weapon_inventory = [Weapon(\"Machine Gun\", 10, 5), Weapon(\"Missile\", 20, 3)]\n",
    "    helicopter_weapon_inventory = [Weapon(\"Rockets\", 15, 4), Weapon(\"Gatling Gun\", 12, 6)]\n",
    "\n",
    "    print(\"Welcome to the Fighter Plane vs Helicopter Battle!\")\n",
    "    print(\"Choose your aircraft:\")\n",
    "    print(\"1. Fighter Plane\")\n",
    "    print(\"2. Helicopter\")\n",
    "    choice = input(\"Enter your choice (1 or 2): \")\n",
    "\n",
    "    if choice == '1':\n",
    "        player_aircraft = Aircraft(\"Fighter Plane\", 60, 12, 6, fighter_plane_weapon_inventory)\n",
    "    elif choice == '2':\n",
    "        player_aircraft = Aircraft(\"Helicopter\", 50, 10, 4, helicopter_weapon_inventory)\n",
    "    else:\n",
    "        print(\"Invalid choice! Exiting game.\")\n",
    "        return\n",
    "\n",
    "    enemy_aircraft = random.choice([\n",
    "        Aircraft(\"Fighter Plane\", 60, 12, 6, fighter_plane_weapon_inventory.copy()),\n",
    "        Aircraft(\"Helicopter\", 50, 10, 4, helicopter_weapon_inventory.copy())\n",
    "    ])\n",
    "\n",
    "    print(f\"You are piloting a {player_aircraft.name}. Prepare for battle against the enemy {enemy_aircraft.name}!\\n\")\n",
    "\n",
    "    while player_aircraft.is_alive() and enemy_aircraft.is_alive():\n",
    "        print(f\"{player_aircraft.name} (Health: {player_aircraft.health}) vs {enemy_aircraft.name} (Health: {enemy_aircraft.health})\")\n",
    "        print(\"1. Attack\")\n",
    "        print(\"2. Defend\")\n",
    "        player_choice = input(\"Enter your choice: \")\n",
    "\n",
    "        if player_choice == '1':\n",
    "            player_aircraft.attack(enemy_aircraft)\n",
    "            if enemy_aircraft.is_alive():\n",
    "                enemy_aircraft.attack(player_aircraft)\n",
    "        elif player_choice == '2':\n",
    "            player_aircraft.defend()\n",
    "            enemy_aircraft.attack(player_aircraft)\n",
    "        else:\n",
    "            print(\"Invalid choice! Try again.\")\n",
    "\n",
    "    if player_aircraft.is_alive():\n",
    "        print(\"Congratulations! You defeated the enemy.\")\n",
    "    else:\n",
    "        print(\"Game over! The enemy has defeated you.\")\n",
    "\n",
    "if __name__ == \"__main__\":\n",
    "    main()\n"
   ]
  },
  {
   "cell_type": "code",
   "execution_count": null,
   "id": "9a2f677f-7c28-495e-8464-a0c320826177",
   "metadata": {},
   "outputs": [],
   "source": []
  }
 ],
 "metadata": {
  "kernelspec": {
   "display_name": "Python 3 (ipykernel)",
   "language": "python",
   "name": "python3"
  },
  "language_info": {
   "codemirror_mode": {
    "name": "ipython",
    "version": 3
   },
   "file_extension": ".py",
   "mimetype": "text/x-python",
   "name": "python",
   "nbconvert_exporter": "python",
   "pygments_lexer": "ipython3",
   "version": "3.12.1"
  }
 },
 "nbformat": 4,
 "nbformat_minor": 5
}
